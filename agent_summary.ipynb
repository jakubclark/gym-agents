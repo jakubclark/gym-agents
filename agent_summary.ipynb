{
 "cells": [
  {
   "cell_type": "code",
   "execution_count": null,
   "metadata": {},
   "outputs": [],
   "source": [
    "import json\n",
    "\n",
    "from matplotlib import pyplot as plt\n",
    "from matplotlib import patches as mpatches\n",
    "from matplotlib.colors import ListedColormap\n",
    "\n",
    "import numpy as np\n",
    "import pandas as pd\n",
    "\n",
    "from gym_agents.envs import create_env\n",
    "from gym_agents.agents import DQNAgent"
   ]
  },
  {
   "cell_type": "code",
   "execution_count": null,
   "metadata": {},
   "outputs": [],
   "source": [
    "filename = 'CustomMountainCar-v0-DQNAgent-config_performance.json'"
   ]
  },
  {
   "cell_type": "code",
   "execution_count": null,
   "metadata": {},
   "outputs": [],
   "source": [
    "try:\n",
    "    with open(filename) as fh:\n",
    "        data = json.load(fh)\n",
    "except FileNotFoundError as e:\n",
    "    print(f'Did not find `{filename}`. Run `python -m gym_agents` first.')"
   ]
  },
  {
   "cell_type": "code",
   "execution_count": null,
   "metadata": {},
   "outputs": [],
   "source": [
    "final_agent_config = data['agent_config']\n",
    "\n",
    "train_episode_reward_history = data['data']['train_episode_rewards']\n",
    "test_episode_reward_history = data['data_test']['test_episode_rewards']\n",
    "epsilon_history = data['data']['train_epsilons']\n",
    "loss_history = data['agent_history']['loss']\n",
    "\n",
    "save_freq = data['runner_config']['save_freq']\n",
    "saved_mean = data['runner_config']['saved_mean']\n",
    "saved_means = data['runner_config']['saved_means']"
   ]
  },
  {
   "cell_type": "code",
   "execution_count": null,
   "metadata": {},
   "outputs": [],
   "source": [
    "print(f'Final agent config:{final_agent_config}')"
   ]
  },
  {
   "cell_type": "code",
   "execution_count": null,
   "metadata": {},
   "outputs": [],
   "source": [
    "plt.plot(train_episode_reward_history)\n",
    "plt.ylabel('Train Episode Reward')\n",
    "plt.xlabel('Episode Number')\n",
    "plt.show()"
   ]
  },
  {
   "cell_type": "code",
   "execution_count": null,
   "metadata": {},
   "outputs": [],
   "source": [
    "plt.plot(epsilon_history)\n",
    "plt.ylabel('Epsilon')\n",
    "plt.xlabel('Episode Number')\n",
    "plt.show()"
   ]
  },
  {
   "cell_type": "code",
   "execution_count": null,
   "metadata": {},
   "outputs": [],
   "source": [
    "plt.plot(loss_history)\n",
    "plt.ylabel('Loss Rate')\n",
    "plt.xlabel('Model Fit Call')\n",
    "plt.show()"
   ]
  },
  {
   "cell_type": "code",
   "execution_count": null,
   "metadata": {},
   "outputs": [],
   "source": [
    "x = []\n",
    "y = []\n",
    "for mean in saved_means:\n",
    "    x.append(mean['episode_num'])\n",
    "    y.append(mean[f'{save_freq}_episode_mean'])\n",
    "plt.plot(x, y)\n",
    "plt.xlabel('Episode Number')\n",
    "plt.ylabel(f'Last {save_freq} Episode mean')\n",
    "plt.show()"
   ]
  },
  {
   "cell_type": "code",
   "execution_count": null,
   "metadata": {},
   "outputs": [],
   "source": [
    "plt.plot(test_episode_reward_history)\n",
    "plt.ylabel('Test Episode Reward')\n",
    "plt.xlabel('Episode Number')\n",
    "plt.show()"
   ]
  },
  {
   "cell_type": "code",
   "execution_count": null,
   "metadata": {},
   "outputs": [],
   "source": [
    "env_id = 'CustomMountainCar-v0'\n",
    "agent_id = 'DQNAgent'\n",
    "model_file_path = f'models/{env_id}-{agent_id}.model'\n",
    "\n",
    "env = create_env('CustomMountainCar-v0')\n",
    "agent = DQNAgent(env.action_space, env.observation_space)\n",
    "agent.load(model_file_path)"
   ]
  },
  {
   "cell_type": "code",
   "execution_count": null,
   "metadata": {},
   "outputs": [],
   "source": [
    "X = np.random.uniform(-1.2, 0.6, 10000)\n",
    "Y = np.random.uniform(-0.07, 0.07, 10000)\n",
    "Z = []"
   ]
  },
  {
   "cell_type": "code",
   "execution_count": null,
   "metadata": {},
   "outputs": [],
   "source": [
    "for i in range(len(X)):\n",
    "    arr = np.array(([[X[i], Y[i]]]))\n",
    "    action = agent.act_model(arr, None, None)\n",
    "    Z.append(action)\n",
    "Z = pd.Series(Z)\n",
    "colors_ = {0:'blue',1:'lime',2:'red'}\n",
    "colors = Z.apply(lambda x:colors_[x])\n",
    "labels = ['Left','Nothing','Right']"
   ]
  },
  {
   "cell_type": "code",
   "execution_count": null,
   "metadata": {},
   "outputs": [],
   "source": [
    "fig = plt.figure(3, figsize=[7,7])\n",
    "ax = fig.gca()\n",
    "plt.set_cmap('brg')\n",
    "surf = ax.scatter(X,Y, c=Z)\n",
    "ax.set_xlabel('Position')\n",
    "ax.set_ylabel('Velocity')\n",
    "ax.set_title('Policy')\n",
    "recs = []\n",
    "for i in range(0,3):\n",
    "     recs.append(\n",
    "         mpatches.Rectangle(\n",
    "             (0,0),\n",
    "             1,1,\n",
    "             fc=sorted(colors.unique())[i]\n",
    "         )\n",
    "     )\n",
    "plt.legend(recs,labels,loc=4,ncol=3)\n",
    "fig.savefig('Policy.png')\n",
    "plt.axvline(0.5)\n",
    "plt.show()"
   ]
  },
  {
   "cell_type": "code",
   "execution_count": null,
   "metadata": {},
   "outputs": [],
   "source": [
    "positions = []\n",
    "velocities = []\n",
    "actions = []"
   ]
  },
  {
   "cell_type": "code",
   "execution_count": null,
   "metadata": {},
   "outputs": [],
   "source": [
    "state = env.reset()\n",
    "state = np.reshape(state, [1, 2])\n",
    "done = False\n",
    "while not done:\n",
    "    \n",
    "    pos = state[0][0]\n",
    "    vel = state[0][1]\n",
    "    positions.append(pos)\n",
    "    velocities.append(vel)\n",
    "    \n",
    "    action = agent.act_model(state, None, None)\n",
    "    \n",
    "    actions.append(action)\n",
    "    \n",
    "    state, reward, done, _ = env.step(action)\n",
    "    state = np.reshape(state, [1, 2])"
   ]
  },
  {
   "cell_type": "code",
   "execution_count": null,
   "metadata": {},
   "outputs": [],
   "source": [
    "plt.plot(positions)\n",
    "plt.xlabel('Step Number')\n",
    "plt.ylabel('Cart Position')\n",
    "plt.show()"
   ]
  },
  {
   "cell_type": "code",
   "execution_count": null,
   "metadata": {},
   "outputs": [],
   "source": [
    "plt.plot(velocities)\n",
    "plt.xlabel('Step Number')\n",
    "plt.plot('Cart Velotiy')\n",
    "plt.show()"
   ]
  },
  {
   "cell_type": "code",
   "execution_count": null,
   "metadata": {},
   "outputs": [],
   "source": [
    "fig = plt.figure(3, figsize=[7,7])\n",
    "ax = fig.gca()\n",
    "ax.scatter(positions,velocities)\n",
    "ax.set_xlabel('Position')\n",
    "ax.set_ylabel('Velocity')\n",
    "ax.set_title('Position vs Velocity')\n",
    "plt.show()"
   ]
  },
  {
   "cell_type": "code",
   "execution_count": null,
   "metadata": {},
   "outputs": [],
   "source": []
  }
 ],
 "metadata": {
  "kernelspec": {
   "display_name": "Python 3",
   "language": "python",
   "name": "python3"
  },
  "language_info": {
   "codemirror_mode": {
    "name": "ipython",
    "version": 3
   },
   "file_extension": ".py",
   "mimetype": "text/x-python",
   "name": "python",
   "nbconvert_exporter": "python",
   "pygments_lexer": "ipython3",
   "version": "3.6.8"
  }
 },
 "nbformat": 4,
 "nbformat_minor": 2
}
